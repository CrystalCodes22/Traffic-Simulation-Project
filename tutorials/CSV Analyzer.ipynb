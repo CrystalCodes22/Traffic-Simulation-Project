{
 "cells": [
  {
   "cell_type": "code",
   "execution_count": 55,
   "metadata": {},
   "outputs": [],
   "source": [
    "import csv\n",
    "import matplotlib.pyplot as plt\n",
    "import numpy as np"
   ]
  },
  {
   "cell_type": "code",
   "execution_count": 56,
   "metadata": {},
   "outputs": [],
   "source": [
    "reader = open(\"data/test_network_20201115-0951111605462671.4956334-0_emission.csv\")\n",
    "#data/test_network_20201108-1009201604858960.7428489-0_emission.csv\n",
    "#data/ring_example_20200813-2156151597380975.638379-0_emission.csv\n",
    "#data/test_network_20201108-0944201604857460.673647-0_emission.csv\n",
    "#data/test_network_20201115-0951111605462671.4956334-0_emission.csv\n",
    "\n",
    "x = []\n",
    "\n",
    "for row in reader.readlines():\n",
    "    x.append(row.split(','))"
   ]
  },
  {
   "cell_type": "code",
   "execution_count": 57,
   "metadata": {},
   "outputs": [
    {
     "name": "stdout",
     "output_type": "stream",
     "text": [
      "66429\n",
      "['time', 'id', 'x', 'y', 'speed', 'headway', 'leader_id', 'target_accel_with_noise_with_failsafe', 'target_accel_no_noise_no_failsafe', 'target_accel_with_noise_no_failsafe', 'target_accel_no_noise_with_failsafe', 'realized_accel', 'road_grade', 'edge_id', 'lane_number', 'distance', 'relative_position', 'follower_id', 'leader_rel_speed\\n']\n",
      "['0', 'human_0', '207.2', '198.4', '0.0', '1000.0', '', '', '', '', '', '0', '0', 'edge1', '0', '0.0', '0.0', '', '-1001.0\\n']\n",
      "['2.1', 'human_0', '209.4047888602761', '198.4', '2.0791994320713973', '1000.0', '', '0.9999810179256358', '0.9999810179256358', '0.9999810179256358', '0.9999810179256358', '0.9900802157679545', '0', 'edge1', '0', '2.287125373730433', '2.287125373730433', 'human_2', '-1003.0791994320714\\n']\n",
      "19\n",
      "19\n"
     ]
    }
   ],
   "source": [
    "print(len(x))\n",
    "print(x[0])\n",
    "print(x[1])\n",
    "print(x[22])\n",
    "lenCheck = [len(entry) for entry in x]\n",
    "print(max(lenCheck))\n",
    "print(min(lenCheck))\n"
   ]
  },
  {
   "cell_type": "code",
   "execution_count": 58,
   "metadata": {},
   "outputs": [
    {
     "name": "stdout",
     "output_type": "stream",
     "text": [
      "[0.0, 0.0, 0.0, 0.0]\n",
      "0.0\n"
     ]
    }
   ],
   "source": [
    "preeex = None\n",
    "preeey = None\n",
    "preid = None\n",
    "pretime = None\n",
    "\n",
    "# Wait time\n",
    "lobby = 0\n",
    "\n",
    "# List of wait times for different cars\n",
    "serverAlpha = []\n",
    "\n",
    "# Total wait times of all cars\n",
    "superserver = 0\n",
    "\n",
    "london = 0\n",
    "\n",
    "thing = []\n",
    "thingthing = []\n",
    "\n",
    "dilow_10.ctionary = {}\n",
    "\n",
    "for dp in x[1:]:\n",
    "    \n",
    "    if dp[1] == preid:\n",
    "        # This is to find time spent still metric\n",
    "        if (dp[2] == preeex) and (dp[3] == preeey):\n",
    "            # has not moved since last timestamp.\n",
    "            #print(\"Eliminated\")\n",
    "            fallguy = float(dp[0]) - pretime\n",
    "            lobby += fallguy\n",
    "            \n",
    "        # Updates last seen time\n",
    "        dictionary[dp[1]] = float(dp[0])\n",
    "        \n",
    "    else:\n",
    "        # new car.\n",
    "        if float(dp[1][6:]) > 1:\n",
    "            thingthing.append(lastseentime-firstseentime)\n",
    "        \n",
    "        lastseentime = float(dp[0])\n",
    "            \n",
    "        firstseentime = float(dp[0])\n",
    "        \n",
    "#         if float(dp[1][6:]) > 1:\n",
    "#             r = int(thing[(int(dp[1][6:])*2)])-int(thing[(int(dp[1][6:])*2+1)])\n",
    "#             thingthing.append(r)\n",
    "    \n",
    "        preeex = None\n",
    "        preeey = None\n",
    "        pretime = None\n",
    "        \n",
    "        # Add\n",
    "        serverAlpha.append(lobby)\n",
    "        \n",
    "        #print(\"Lobby \" + str(lobby))\n",
    "        #print(\"Qualified Whirlygig \" + dp[1])\n",
    "    \n",
    "    preeex = dp[2]\n",
    "    preeey = dp[3]\n",
    "    preid = dp[1]\n",
    "    pretime = float(dp[0])\n",
    "\n",
    "# Drop the first line (headers)low_10.low_10.\n",
    "serverBeta = serverAlpha[1:]\n",
    "#print(serverBeta)\n",
    "\n",
    "for lobby in serverBeta:\n",
    "    superserver += lobby\n",
    "    \n",
    "london = superserver / len(serverBeta)\n",
    "\n",
    "#print(len(serverBeta))\n",
    "#print(london)\n",
    "\n",
    "# blob = 0\n",
    "\n",
    "# for blab in thingthing:\n",
    "#     blob = blob + blab\n",
    "    \n",
    "# thingthingthing = blob / len(thingthing)\n",
    "\n",
    "thingthingthing = np.average(np.array(thingthing))\n",
    "\n",
    "#print(thing)\n",
    "print(thingthing)\n",
    "print(thingthingthing)\n",
    "\n",
    "#print(blob)"
   ]
  },
  {
   "cell_type": "code",
   "execution_count": 59,
   "metadata": {
    "scrolled": false
   },
   "outputs": [
    {
     "data": {
      "text/plain": [
       "[<matplotlib.lines.Line2D at 0x7f8f7770a390>]"
      ]
     },
     "execution_count": 59,
     "metadata": {},
     "output_type": "execute_result"
    },
    {
     "data": {
      "image/png": "[encoded data removed]",
      "text/plain": [
       "<Figure size 432x288 with 1 Axes>"
      ]
     },
     "metadata": {
      "needs_background": "light"
     },
     "output_type": "display_data"
    }
   ],
   "source": [
    "# Plot graph of data\n",
    "plt.plot(serverBeta)"
   ]
  },
  {
   "cell_type": "code",
   "execution_count": 60,
   "metadata": {},
   "outputs": [
    {
     "data": {
      "text/plain": [
       "0.7884354800780228"
      ]
     },
     "execution_count": 60,
     "metadata": {},
     "output_type": "execute_result"
    }
   ],
   "source": [
    "# Finding standard deviation of data\n",
    "icecream = np.array(serverBeta)\n",
    "np.std(icecream)"
   ]
  },
  {
   "cell_type": "code",
   "execution_count": 62,
   "metadata": {},
   "outputs": [
    {
     "name": "stdout",
     "output_type": "stream",
     "text": [
      "['flow_00.0', 'flow_00.1', 'flow_00.10', 'flow_00.11', 'flow_00.12', 'flow_00.13', 'flow_00.14', 'flow_00.15', 'flow_00.16', 'flow_00.17', 'flow_00.18', 'flow_00.19', 'flow_00.2', 'flow_00.20', 'flow_00.21', 'flow_00.22', 'flow_00.23', 'flow_00.24', 'flow_00.25', 'flow_00.26', 'flow_00.27', 'flow_00.3', 'flow_00.4', 'flow_00.5', 'flow_00.6', 'flow_00.7', 'flow_00.8', 'flow_00.9', 'flow_10.0', 'flow_10.1', 'flow_10.10', 'flow_10.11', 'flow_10.12', 'flow_10.13', 'flow_10.14', 'flow_10.15', 'flow_10.16', 'flow_10.17', 'flow_10.18', 'flow_10.19', 'flow_10.2', 'flow_10.20', 'flow_10.21', 'flow_10.22', 'flow_10.23', 'flow_10.24', 'flow_10.25', 'flow_10.26', 'flow_10.27', 'flow_10.3', 'flow_10.4', 'flow_10.5', 'flow_10.6', 'flow_10.7', 'flow_10.8', 'flow_10.9', 'flow_20.0', 'flow_20.1', 'flow_20.10', 'flow_20.11', 'flow_20.12', 'flow_20.13', 'flow_20.14', 'flow_20.15', 'flow_20.16', 'flow_20.17', 'flow_20.18', 'flow_20.19', 'flow_20.2', 'flow_20.20', 'flow_20.21', 'flow_20.22', 'flow_20.23', 'flow_20.24', 'flow_20.25', 'flow_20.26', 'flow_20.27', 'flow_20.3', 'flow_20.4', 'flow_20.5', 'flow_20.6', 'flow_20.7', 'flow_20.8', 'flow_20.9', 'flow_30.0', 'flow_30.1', 'flow_30.10', 'flow_30.11', 'flow_30.12', 'flow_30.13', 'flow_30.14', 'flow_30.15', 'flow_30.16', 'flow_30.17', 'flow_30.18', 'flow_30.19', 'flow_30.2', 'flow_30.20', 'flow_30.21', 'flow_30.22', 'flow_30.23', 'flow_30.24', 'flow_30.25', 'flow_30.26', 'flow_30.27', 'flow_30.3', 'flow_30.4', 'flow_30.5', 'flow_30.6', 'flow_30.7', 'flow_30.8', 'flow_30.9', 'human_0', 'human_1', 'human_2', 'human_3', 'human_4', 'human_5']\n"
     ]
    }
   ],
   "source": [
    "z = []\n",
    "for car in x[1:]:\n",
    "    z.append(car[1])\n",
    "    \n",
    "z = list(set(z))\n",
    "print(sorted(z))"
   ]
  },
  {
   "cell_type": "code",
   "execution_count": null,
   "metadata": {},
   "outputs": [],
   "source": []
  }
 ],
 "metadata": {
  "kernelspec": {
   "display_name": "Python 3",
   "language": "python",
   "name": "python3"
  },
  "language_info": {
   "codemirror_mode": {
    "name": "ipython",
    "version": 3
   },
   "file_extension": ".py",
   "mimetype": "text/x-python",
   "name": "python",
   "nbconvert_exporter": "python",
   "pygments_lexer": "ipython3",
   "version": "3.7.3"
  }
 },
 "nbformat": 4,
 "nbformat_minor": 4
}
